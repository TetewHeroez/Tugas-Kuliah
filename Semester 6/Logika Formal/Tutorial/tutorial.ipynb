{
 "cells": [
  {
   "cell_type": "code",
   "execution_count": 2,
   "id": "c0e4b6ef",
   "metadata": {},
   "outputs": [],
   "source": [
    "from z3 import *"
   ]
  },
  {
   "cell_type": "code",
   "execution_count": null,
   "id": "91482df3",
   "metadata": {},
   "outputs": [
    {
     "name": "stdout",
     "output_type": "stream",
     "text": [
      "{x_2, x_1, x_3, x_4}\n"
     ]
    }
   ],
   "source": [
    "#define the variables\n",
    "x1 = Bool(\"x_1\")\n",
    "x2 = Bool(\"x_2\")\n",
    "x3 = Bool(\"x_3\")\n",
    "x4 = Bool(\"x_4\")\n",
    "A = Bool(\"A\")\n",
    "var = {x1,x2,x3,x4}\n",
    "\n",
    "print(var)"
   ]
  },
  {
   "cell_type": "markdown",
   "id": "ac9a3494",
   "metadata": {},
   "source": [
    "$$(\\neg a + b + \\neg c)\n",
    "(a + \\neg c + d)\n",
    "(a + \\neg c + \\neg d)\n",
    "(a + c + d)\n",
    "(a + c + \\neg d)\n",
    "(\\neg b + c + d)\n",
    "(\\neg a + b + c)\n",
    "(\\neg a + \\neg b + \\neg c)$$"
   ]
  },
  {
   "cell_type": "code",
   "execution_count": 4,
   "id": "eda6f0fd",
   "metadata": {},
   "outputs": [
    {
     "name": "stdout",
     "output_type": "stream",
     "text": [
      "[b = True, a = True, c = False, d = True]\n"
     ]
    }
   ],
   "source": [
    "#define the constraints\n",
    "a = Bool(\"a\")\n",
    "b = Bool(\"b\")\n",
    "c = Bool(\"c\")\n",
    "d = Bool(\"d\")\n",
    "\n",
    "#define the clauses\n",
    "f1 = Or(Not(a), b, Not(c))\n",
    "f2 = Or(a, Not(c), d)\n",
    "f3 = Or(a, Not(c), Not(d))\n",
    "f4 = Or(a, c , d)\n",
    "f5 = Or(a,c, Not(d))\n",
    "f6 = Or(Not(b), c, d)\n",
    "f7 = Or(Not(a), b,c)\n",
    "f8 = Or(Not(a), Not(b), Not(c))\n",
    "\n",
    "solve(And(f1, f2, f3, f4, f5, f6, f7, f8))"
   ]
  },
  {
   "cell_type": "code",
   "execution_count": 5,
   "id": "5c1e6a20",
   "metadata": {},
   "outputs": [
    {
     "name": "stdout",
     "output_type": "stream",
     "text": [
      "{a: False, b: False, c: True, d: False}\n",
      "{a: True, b: False, c: True, d: False}\n",
      "{a: True, b: False, c: True, d: True}\n",
      "{a: True, b: True, c: False, d: True}\n",
      "{a: False, b: True, c: True, d: False}\n",
      "\n",
      "Total solutions found: 5\n"
     ]
    }
   ],
   "source": [
    "formula = And(f3, f4, f5, f6, f7, f8)\n",
    "\n",
    "s = Solver()\n",
    "s.add(formula)\n",
    "\n",
    "# List to store all models\n",
    "models = []\n",
    "\n",
    "while s.check() == sat:\n",
    "    m = s.model()\n",
    "    models.append(m)\n",
    "    # Print the model\n",
    "    print({v: m[v] for v in [a, b, c, d]})\n",
    "\n",
    "    # Add blocking clause to exclude current model\n",
    "    block = []\n",
    "    for v in [a, b, c, d]:\n",
    "        if is_true(m[v]):\n",
    "            block.append(v == False)\n",
    "        else:\n",
    "            block.append(v == True)\n",
    "    s.add(Or(block))\n",
    "\n",
    "print(f\"\\nTotal solutions found: {len(models)}\")"
   ]
  }
 ],
 "metadata": {
  "kernelspec": {
   "display_name": "Python 3",
   "language": "python",
   "name": "python3"
  },
  "language_info": {
   "codemirror_mode": {
    "name": "ipython",
    "version": 3
   },
   "file_extension": ".py",
   "mimetype": "text/x-python",
   "name": "python",
   "nbconvert_exporter": "python",
   "pygments_lexer": "ipython3",
   "version": "3.11.5"
  }
 },
 "nbformat": 4,
 "nbformat_minor": 5
}
