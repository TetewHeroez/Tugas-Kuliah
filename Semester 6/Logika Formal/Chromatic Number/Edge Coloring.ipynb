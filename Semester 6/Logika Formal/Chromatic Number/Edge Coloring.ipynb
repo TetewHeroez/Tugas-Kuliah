{
 "cells": [
  {
   "cell_type": "code",
   "execution_count": 3,
   "id": "1830f6ab",
   "metadata": {},
   "outputs": [
    {
     "name": "stdout",
     "output_type": "stream",
     "text": [
      "Edge chromatic number (minimum colors): 4\n",
      "Edge coloring result:\n",
      "Edge (0, 1): Color 0\n",
      "Edge (0, 3): Color 2\n",
      "Edge (0, 4): Color 1\n",
      "Edge (0, 5): Color 3\n",
      "Edge (1, 2): Color 2\n",
      "Edge (1, 3): Color 1\n",
      "Edge (1, 4): Color 3\n",
      "Edge (2, 3): Color 3\n",
      "Edge (3, 4): Color 0\n",
      "Edge (4, 5): Color 2\n"
     ]
    }
   ],
   "source": [
    "from z3 import *\n",
    "\n",
    "# Matriks adjacency\n",
    "A = [\n",
    "    [0, 1, 0, 1, 1, 1],\n",
    "    [1, 0, 1, 1, 1, 0],\n",
    "    [0, 1, 0, 1, 0, 0],\n",
    "    [1, 1, 1, 0, 1, 0],\n",
    "    [1, 1, 0, 1, 0, 1],\n",
    "    [1, 0, 0, 0, 1, 0]\n",
    "]\n",
    "\n",
    "n = len(A)\n",
    "\n",
    "# Ambil semua edge (i < j untuk menghindari duplikasi)\n",
    "edges = [(i, j) for i in range(n) for j in range(i+1, n) if A[i][j] == 1]\n",
    "\n",
    "# Tetapkan batas atas jumlah warna (Vizing's Theorem: maksimum derajat + 1)\n",
    "max_deg = max(sum(row) for row in A)\n",
    "upper_bound = max_deg + 1\n",
    "\n",
    "# Cari nilai k terkecil untuk edge coloring\n",
    "for k in range(1, upper_bound + 1):\n",
    "    solver = Solver()\n",
    "    \n",
    "    # Buat variabel warna untuk tiap edge, domainnya 0..k-1\n",
    "    color_vars = {e: Int(f\"c_{e[0]}_{e[1]}\") for e in edges}\n",
    "    for var in color_vars.values():\n",
    "        solver.add(var >= 0, var < k)\n",
    "\n",
    "    # Constraint: edge-edge yang berbagi simpul tidak boleh punya warna sama\n",
    "    for i in range(n):\n",
    "        incident_edges = [e for e in edges if i in e]\n",
    "        for idx1 in range(len(incident_edges)):\n",
    "            for idx2 in range(idx1 + 1, len(incident_edges)):\n",
    "                e1 = incident_edges[idx1]\n",
    "                e2 = incident_edges[idx2]\n",
    "                solver.add(color_vars[e1] != color_vars[e2])\n",
    "    \n",
    "    # Coba pecahkan\n",
    "    if solver.check() == sat:\n",
    "        model = solver.model()\n",
    "        print(f\"Edge chromatic number (minimum colors): {k}\")\n",
    "        print(\"Edge coloring result:\")\n",
    "        for e in edges:\n",
    "            print(f\"Edge {e}: Color {model[color_vars[e]]}\")\n",
    "        break\n"
   ]
  }
 ],
 "metadata": {
  "kernelspec": {
   "display_name": "Python 3",
   "language": "python",
   "name": "python3"
  },
  "language_info": {
   "codemirror_mode": {
    "name": "ipython",
    "version": 3
   },
   "file_extension": ".py",
   "mimetype": "text/x-python",
   "name": "python",
   "nbconvert_exporter": "python",
   "pygments_lexer": "ipython3",
   "version": "3.11.5"
  }
 },
 "nbformat": 4,
 "nbformat_minor": 5
}
