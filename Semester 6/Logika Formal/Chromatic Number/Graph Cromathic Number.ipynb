{
 "cells": [
  {
   "cell_type": "markdown",
   "id": "f475c44a",
   "metadata": {},
   "source": [
    "Given graph with six vertices and some edges in picture below\n",
    "<div align=\"center\">\n",
    "  <img src=\"graph.svg\" width=\"400\">\n",
    "</div>\n",
    "Find <i>chromatic number</i> of that graph!"
   ]
  },
  {
   "cell_type": "code",
   "execution_count": 12,
   "id": "ca6d3502",
   "metadata": {},
   "outputs": [],
   "source": [
    "# Import z3-solver\n",
    "from z3 import *\n",
    "\n",
    "# Define graph by adjacency matrix\n",
    "\n",
    "A=[\n",
    "    [0, 1, 0, 1, 1, 1],\n",
    "    [1, 0, 1, 1, 1, 0],\n",
    "    [0, 1, 0, 1, 0, 0],\n",
    "    [1, 1, 1, 0, 1, 0],\n",
    "    [1, 1, 0, 1, 0, 1],\n",
    "    [1, 0, 0, 0, 1, 0]\n",
    "]\n",
    "\n",
    "n = len(A)"
   ]
  },
  {
   "cell_type": "markdown",
   "id": "2914bf4d",
   "metadata": {},
   "source": [
    "Because we have six vertices, so the maximum different colors is six too. Define the color with $c_i$ where $i\\in\\{1,2,3,4,5,6\\}$. Then we can represented color by numbering $c_i$ with $i$ and restrict the \"colors\" with $c_i>0$."
   ]
  },
  {
   "cell_type": "code",
   "execution_count": 13,
   "id": "e867a01c",
   "metadata": {},
   "outputs": [
    {
     "name": "stdout",
     "output_type": "stream",
     "text": [
      "[c1, c2, c3, c4, c5, c6]\n"
     ]
    }
   ],
   "source": [
    "colors = [Int(f'c{i+1}') for i in range(n)]\n",
    "\n",
    "s = Solver()\n",
    "for c in colors:\n",
    "  s.add(And(c > 0))\n",
    "\n",
    "print(colors)"
   ]
  },
  {
   "cell_type": "markdown",
   "id": "2b10ca07",
   "metadata": {},
   "source": [
    "Since adjacent vertices must be different color, so formulate two adjacent vertex ($c_i$ and $c_j$) with\n",
    "$$c_i\\neq c_j, \\text{ where } i,j\\in\\{1,2,3,4,5,6\\}$$\n",
    "Thus matrix are symmetric then just focused on upper or lower triangular element. So the constraint function is\n",
    "$$f:\\bigwedge_{A[i][j]=1}(c_i\\neq c_j), \\text{ where } i,j\\in\\{1,2,3,4,5,6\\}$$\n",
    "$A[i][j]$ define the element of matrix in $i$-row and $j$-column"
   ]
  },
  {
   "cell_type": "code",
   "execution_count": 14,
   "id": "aa1d781d",
   "metadata": {},
   "outputs": [],
   "source": [
    "for i in range(n):\n",
    "  for j in range(i+1, n):\n",
    "      if A[i][j] == 1:\n",
    "          s.add(colors[i] != colors[j])"
   ]
  },
  {
   "cell_type": "markdown",
   "id": "872fe397",
   "metadata": {},
   "source": [
    "Next the idea is we add restrict of $c_i$ with $k\\in\\{1,2,3,4,5,6\\}$ such that $c_i\\leq k$."
   ]
  },
  {
   "cell_type": "code",
   "execution_count": 15,
   "id": "c18b11ab",
   "metadata": {},
   "outputs": [],
   "source": [
    "def colorConstraint(solver, k):\n",
    "  for c in colors:\n",
    "      solver.add(And(c <= k))"
   ]
  },
  {
   "cell_type": "markdown",
   "id": "0f79bfb0",
   "metadata": {},
   "source": [
    "Start with $k=1$ and if the constraint function is unsatisfiable then increase $k$ until $k=6$."
   ]
  },
  {
   "cell_type": "code",
   "execution_count": 16,
   "id": "79263be8",
   "metadata": {},
   "outputs": [
    {
     "name": "stdout",
     "output_type": "stream",
     "text": [
      "Chromatic number is 4\n",
      "[c5 = 3, c4 = 2, c1 = 1, c6 = 4, c2 = 4, c3 = 1]\n"
     ]
    }
   ],
   "source": [
    "def chromaticNumber():\n",
    "  for k in range(1, n+1):\n",
    "    temp_solver = s.__copy__()\n",
    "    colorConstraint(temp_solver, k)\n",
    "    if temp_solver.check() == sat:\n",
    "      print(f\"Chromatic number is {k}\")\n",
    "      print(temp_solver.model())\n",
    "      break\n",
    "\n",
    "chromaticNumber()"
   ]
  }
 ],
 "metadata": {
  "kernelspec": {
   "display_name": "Python 3",
   "language": "python",
   "name": "python3"
  },
  "language_info": {
   "codemirror_mode": {
    "name": "ipython",
    "version": 3
   },
   "file_extension": ".py",
   "mimetype": "text/x-python",
   "name": "python",
   "nbconvert_exporter": "python",
   "pygments_lexer": "ipython3",
   "version": "3.11.5"
  }
 },
 "nbformat": 4,
 "nbformat_minor": 5
}
