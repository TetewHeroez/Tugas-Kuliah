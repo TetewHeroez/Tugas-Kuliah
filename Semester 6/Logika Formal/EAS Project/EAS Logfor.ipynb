{
 "cells": [
  {
   "cell_type": "markdown",
   "id": "5e8676a2",
   "metadata": {},
   "source": [
    "# Robot Grid Navigation Problem\n",
    "\n",
    "Suppose there is a robot at coordinate $A(0, 0)$ that needs to move to coordinate $B(6, 4)$.  \n",
    "The robot is programmed to **avoid red-colored coordinates** (obstacles).\n",
    "\n",
    "<img src=\"grid.png\" alt=\"Grid with obstacles\" width=\"50%\">\n",
    "\n",
    "*Figure: $6 \\times 4$ grid with obstacle nodes (red)*\n",
    "\n",
    "---\n",
    "\n",
    "The robot is equipped with two modules for movement:\n",
    "\n",
    "### Module (a):\n",
    "- The robot may move **one step vertically or horizontally** per move.\n",
    "- Examples:\n",
    "  - $(0, 0) → (1, 0)$\n",
    "  - $(0, 0) → (0, 1)$\n",
    "\n",
    "### Module (b):\n",
    "- The robot may move **one step vertically, horizontally, or diagonally upward**.\n",
    "- Examples:\n",
    "  - $(0, 0) → (1, 0)$\n",
    "  - $(0, 0) → (0, 1)$\n",
    "  - $(0, 0) → (1, 1)$\n",
    "\n",
    "---\n",
    "---\n",
    "\n",
    "## Problem Statements\n",
    "\n",
    "### 1. Create a SMT encoding to define the movements for module (a)\n",
    " - (i) Number of all possible paths from **$A$ to $B$** (without red nodes).\n",
    " - (ii) Show that no valid path includes coordinate **$C$**.\n",
    "\n",
    "---\n",
    "\n",
    "### 2. Create a SMT encoding to define the movements for module (b)\n",
    " - (i) Total paths from **$A$ to $B$**.\n",
    " - (ii) Number of minimal-length paths.\n",
    " - (iii) Prove all minimal paths must pass **$C$, $D$, and $E$**.\n",
    "\n",
    "---\n",
    "\n",
    "## Notes and Hints\n",
    "\n",
    "- 🧠 Your answer **must be based solely on SMT**; you are **not allowed** to “directly” apply your mathematical knowledge to find the answer.\n",
    "- 🐍 You are free to create or use an existing **function or library in Python**.\n",
    "- 🔢 Define integer variables $x_1, y_1, x_2, y_2, \\ldots, x_m, y_m $ to represent the robot’s coordinates.\n",
    "- ➕ Define the relation or constraint between $x_i$ and $x_{i+1}$, and between $y_i$ and  $y_{i+1}$ according to the movement rule for each module\n",
    "- 🚩 Define explicit **constraints** for initial and final coordinates\n"
   ]
  },
  {
   "cell_type": "markdown",
   "id": "956f71e7",
   "metadata": {},
   "source": [
    "## Solution \n",
    "Import the necessary libraries and set up the SMT solver. Then, define the variables according to the problem requirements. We known from module (a) and module (b) that the robot maximum steps is 10 steps which is the sum of the x-axis and y-axis steps. Which is in total, we get 11 coordinates for the robot's path, which are: \n",
    "\n",
    "$$(x_0, y_0), (x_1, y_1), \\ldots, (x_{10}, y_{10})$$\n"
   ]
  },
  {
   "cell_type": "code",
   "execution_count": 1,
   "id": "3cab0d9e",
   "metadata": {},
   "outputs": [
    {
     "name": "stdout",
     "output_type": "stream",
     "text": [
      "(x_0, y_0), (x_1, y_1), (x_2, y_2), (x_3, y_3), (x_4, y_4), (x_5, y_5), (x_6, y_6), (x_7, y_7), (x_8, y_8), (x_9, y_9), (x_10, y_10)\n"
     ]
    }
   ],
   "source": [
    "from z3 import *\n",
    "\n",
    "max_steps = 10\n",
    "\n",
    "X = [Int(f'x_{i}') for i in range(max_steps+1)]\n",
    "Y = [Int(f'y_{i}') for i in range(max_steps+1)]\n",
    "\n",
    "print(\", \".join([f\"({x}, {y})\" for x, y in zip(X, Y)]))\n",
    "\n",
    "s = Solver()"
   ]
  },
  {
   "cell_type": "markdown",
   "id": "2d63a4e6",
   "metadata": {},
   "source": [
    "Set the initial and final coordinates of the robot, which are $A(0, 0)$ and $B(6, 4)$.\n",
    "\n",
    "$$(x_0, y_0) = (0, 0)$$\n",
    "$$(x_{10}, y_{10}) = (6, 4)$$"
   ]
  },
  {
   "cell_type": "code",
   "execution_count": 2,
   "id": "339a9fe6",
   "metadata": {},
   "outputs": [
    {
     "name": "stdout",
     "output_type": "stream",
     "text": [
      "[x_0 == 0, y_0 == 0, x_10 == 6, y_10 == 4]\n"
     ]
    }
   ],
   "source": [
    "s.add(X[0] == 0, Y[0] == 0)  \n",
    "s.add(X[max_steps] == 6, Y[max_steps] == 4)  \n",
    "\n",
    "print(s)"
   ]
  },
  {
   "cell_type": "markdown",
   "id": "8455f0ec",
   "metadata": {},
   "source": [
    "Since coordinates are non-negative integers, we must ensure that the robot does not move outside the grid. So add the constraints\n",
    "\n",
    "$$0 \\leq x_i \\leq 6, \\quad 0 \\leq y_i \\leq 4 \\quad\\text{where}\\quad i\\in\\{0,1,2,...,10\\}$$"
   ]
  },
  {
   "cell_type": "code",
   "execution_count": 3,
   "id": "671b4f2b",
   "metadata": {},
   "outputs": [
    {
     "name": "stdout",
     "output_type": "stream",
     "text": [
      "x_0 == 0 , y_0 == 0 , x_10 == 6 , y_10 == 4 , x_1 >= 0 , x_2 >= 0 , x_3 >= 0 , x_4 >= 0 , x_5 >= 0 , x_6 >= 0 , x_7 >= 0 , x_8 >= 0 , x_9 >= 0 , x_10 >= 0 , x_1 <= 6 , x_2 <= 6 , x_3 <= 6 , x_4 <= 6 , x_5 <= 6 , x_6 <= 6 , x_7 <= 6 , x_8 <= 6 , x_9 <= 6 , x_10 <= 6 , y_1 >= 0 , y_2 >= 0 , y_3 >= 0 , y_4 >= 0 , y_5 >= 0 , y_6 >= 0 , y_7 >= 0 , y_8 >= 0 , y_9 >= 0 , y_10 >= 0 , y_1 <= 4 , y_2 <= 4 , y_3 <= 4 , y_4 <= 4 , y_5 <= 4 , y_6 <= 4 , y_7 <= 4 , y_8 <= 4 , y_9 <= 4 , y_10 <= 4\n"
     ]
    }
   ],
   "source": [
    "s.add([X[i+1] >= 0 for i in range(max_steps)])\n",
    "s.add([X[i+1] <= 6 for i in range(max_steps)])\n",
    "s.add([Y[i+1] >= 0 for i in range(max_steps)])\n",
    "s.add([Y[i+1] <= 4 for i in range(max_steps)])\n",
    "\n",
    "print(\" , \".join([str(c) for c in s.assertions()]))"
   ]
  },
  {
   "cell_type": "markdown",
   "id": "fb131dad",
   "metadata": {},
   "source": [
    "Add the obstacle coordinates (six obstacles) as constraints.\n",
    "\n",
    "$$\\text{Obs}:=\\{(3, 1), (4, 1), (4, 2), (2,2), (2,3) , (3,3)\\}$$\n",
    "\n",
    "The boolean expression for the obstacle coordinates is defined as follows:\n",
    "\n",
    "$$\\left\\{(x_i \\ne m)\\lor (y_i\\ne n)\\,|\\,(m,n)\\in\\text{Obs},\\,i\\in\\{1,2,\\dots,10\\}\\right\\}$$\n",
    "\n"
   ]
  },
  {
   "cell_type": "code",
   "execution_count": 4,
   "id": "a951e849",
   "metadata": {},
   "outputs": [
    {
     "name": "stdout",
     "output_type": "stream",
     "text": [
      "x_0 == 0 , y_0 == 0 , x_10 == 6 , y_10 == 4 , x_1 >= 0 , x_2 >= 0 , x_3 >= 0 , x_4 >= 0 , x_5 >= 0 , x_6 >= 0 , x_7 >= 0 , x_8 >= 0 , x_9 >= 0 , x_10 >= 0 , x_1 <= 6 , x_2 <= 6 , x_3 <= 6 , x_4 <= 6 , x_5 <= 6 , x_6 <= 6 , x_7 <= 6 , x_8 <= 6 , x_9 <= 6 , x_10 <= 6 , y_1 >= 0 , y_2 >= 0 , y_3 >= 0 , y_4 >= 0 , y_5 >= 0 , y_6 >= 0 , y_7 >= 0 , y_8 >= 0 , y_9 >= 0 , y_10 >= 0 , y_1 <= 4 , y_2 <= 4 , y_3 <= 4 , y_4 <= 4 , y_5 <= 4 , y_6 <= 4 , y_7 <= 4 , y_8 <= 4 , y_9 <= 4 , y_10 <= 4 , Or(x_1 != 3, y_1 != 1) , Or(x_1 != 4, y_1 != 1) , Or(x_1 != 4, y_1 != 2) , Or(x_1 != 2, y_1 != 2) , Or(x_1 != 2, y_1 != 3) , Or(x_1 != 3, y_1 != 3) , Or(x_2 != 3, y_2 != 1) , Or(x_2 != 4, y_2 != 1) , Or(x_2 != 4, y_2 != 2) , Or(x_2 != 2, y_2 != 2) , Or(x_2 != 2, y_2 != 3) , Or(x_2 != 3, y_2 != 3) , Or(x_3 != 3, y_3 != 1) , Or(x_3 != 4, y_3 != 1) , Or(x_3 != 4, y_3 != 2) , Or(x_3 != 2, y_3 != 2) , Or(x_3 != 2, y_3 != 3) , Or(x_3 != 3, y_3 != 3) , Or(x_4 != 3, y_4 != 1) , Or(x_4 != 4, y_4 != 1) , Or(x_4 != 4, y_4 != 2) , Or(x_4 != 2, y_4 != 2) , Or(x_4 != 2, y_4 != 3) , Or(x_4 != 3, y_4 != 3) , Or(x_5 != 3, y_5 != 1) , Or(x_5 != 4, y_5 != 1) , Or(x_5 != 4, y_5 != 2) , Or(x_5 != 2, y_5 != 2) , Or(x_5 != 2, y_5 != 3) , Or(x_5 != 3, y_5 != 3) , Or(x_6 != 3, y_6 != 1) , Or(x_6 != 4, y_6 != 1) , Or(x_6 != 4, y_6 != 2) , Or(x_6 != 2, y_6 != 2) , Or(x_6 != 2, y_6 != 3) , Or(x_6 != 3, y_6 != 3) , Or(x_7 != 3, y_7 != 1) , Or(x_7 != 4, y_7 != 1) , Or(x_7 != 4, y_7 != 2) , Or(x_7 != 2, y_7 != 2) , Or(x_7 != 2, y_7 != 3) , Or(x_7 != 3, y_7 != 3) , Or(x_8 != 3, y_8 != 1) , Or(x_8 != 4, y_8 != 1) , Or(x_8 != 4, y_8 != 2) , Or(x_8 != 2, y_8 != 2) , Or(x_8 != 2, y_8 != 3) , Or(x_8 != 3, y_8 != 3) , Or(x_9 != 3, y_9 != 1) , Or(x_9 != 4, y_9 != 1) , Or(x_9 != 4, y_9 != 2) , Or(x_9 != 2, y_9 != 2) , Or(x_9 != 2, y_9 != 3) , Or(x_9 != 3, y_9 != 3)\n"
     ]
    }
   ],
   "source": [
    "obs = [(3, 1), (4, 1), (4, 2), (2, 2), (2, 3), (3, 3)]\n",
    "s.add([Or(X[i+1] != m, Y[i+1] != n) for i in range(max_steps-1) for (m, n) in obs])\n",
    "\n",
    "\n",
    "print(\" , \".join([str(c) for c in s.assertions()]))"
   ]
  },
  {
   "cell_type": "markdown",
   "id": "f82376b2",
   "metadata": {},
   "source": [
    "### Module (a)\n",
    "Define relations and constraints for the robot's movements based on the modules described. So we can represented by\n",
    "$$\\begin{align*}\n",
    "\\text{Right step:}&&\\text{Up step:}&\\\\\n",
    "x_{i+1} &= x_i + 1 &\\qquad\\qquad\\qquad\\qquad x_{i+1} &= x_i\\\\\n",
    "y_{i+1} &= y_i  & y_{j+1} &= y_i + 1\n",
    "\\end{align*}$$\n",
    "\n",
    "or in boolean notation we can write\n",
    "$$\\begin{align*}\n",
    "\\text{Right step: }& (x_{i+1} = x_i + 1) \\land (y_{i+1} = y_i)\\\\\n",
    "\\text{Up step: }& (x_{i+1} = x_i) \\land (y_{i+1} = y_i + 1)\n",
    "\\end{align*}$$\n",
    "\n",
    "for $i = 1, 2, \\ldots, 6$.\n",
    "\n",
    "Now because in any position the robot can only move in one of the two directions, so we can define a boolean variable $m_i$ for each step\n",
    "\n",
    "$$m_i = [(x_{i+1} = x_i + 1) \\land (y_{i+1} = y_i)] \\lor [(x_{i+1} = x_i) \\land (y_{i+1} = y_i + 1)]$$\n"
   ]
  },
  {
   "cell_type": "code",
   "execution_count": 5,
   "id": "d4acda97",
   "metadata": {},
   "outputs": [],
   "source": [
    "def right_step(i):\n",
    "    return And(X[i+1] == X[i] + 1, Y[i+1] == Y[i])\n",
    "\n",
    "def up_step(i):\n",
    "    return And(X[i+1] == X[i], Y[i+1] == Y[i] + 1)"
   ]
  },
  {
   "cell_type": "code",
   "execution_count": 6,
   "id": "11b5eaca",
   "metadata": {},
   "outputs": [],
   "source": [
    "def module_a(solver):\n",
    "    new_solver = Solver()\n",
    "    new_solver.add(solver.assertions())\n",
    "    for i in range(max_steps):\n",
    "        new_solver.add(Or(\n",
    "            right_step(i),\n",
    "            up_step(i)\n",
    "        ))\n",
    "    return new_solver\n",
    "    "
   ]
  },
  {
   "cell_type": "markdown",
   "id": "6681edf7",
   "metadata": {},
   "source": [
    "#### Total possible paths (i)\n",
    "\n",
    "*There I want to define the function to print all possible paths*\n"
   ]
  },
  {
   "cell_type": "code",
   "execution_count": 7,
   "id": "017934f0",
   "metadata": {},
   "outputs": [],
   "source": [
    "def print_all_paths(solver,c):\n",
    "    count = c\n",
    "    s_local = Solver()\n",
    "    s_local.append(solver.assertions())\n",
    "    while s_local.check() == sat:\n",
    "        m = s_local.model()\n",
    "        path = [(m.evaluate(X[i]).as_long(), m.evaluate(Y[i]).as_long()) for i in range(max_steps+1)]\n",
    "        print(f\"path {count+1} :\", path)\n",
    "\n",
    "        # Block current model\n",
    "        s_local.add(Or([\n",
    "            Or(X[i] != m.evaluate(X[i]), Y[i] != m.evaluate(Y[i]))\n",
    "            for i in range(max_steps+1)\n",
    "        ]))\n",
    "        count += 1\n",
    "    return count\n",
    "    "
   ]
  },
  {
   "cell_type": "code",
   "execution_count": 8,
   "id": "1d217329",
   "metadata": {},
   "outputs": [
    {
     "name": "stdout",
     "output_type": "stream",
     "text": [
      "path 1 : [(0, 0), (1, 0), (2, 0), (3, 0), (4, 0), (5, 0), (6, 0), (6, 1), (6, 2), (6, 3), (6, 4)]\n",
      "path 2 : [(0, 0), (0, 1), (0, 2), (1, 2), (1, 3), (1, 4), (2, 4), (3, 4), (4, 4), (5, 4), (6, 4)]\n",
      "path 3 : [(0, 0), (0, 1), (0, 2), (0, 3), (1, 3), (1, 4), (2, 4), (3, 4), (4, 4), (5, 4), (6, 4)]\n",
      "path 4 : [(0, 0), (0, 1), (0, 2), (0, 3), (0, 4), (1, 4), (2, 4), (3, 4), (4, 4), (5, 4), (6, 4)]\n",
      "path 5 : [(0, 0), (1, 0), (1, 1), (1, 2), (1, 3), (1, 4), (2, 4), (3, 4), (4, 4), (5, 4), (6, 4)]\n",
      "path 6 : [(0, 0), (0, 1), (1, 1), (1, 2), (1, 3), (1, 4), (2, 4), (3, 4), (4, 4), (5, 4), (6, 4)]\n",
      "path 7 : [(0, 0), (1, 0), (2, 0), (3, 0), (4, 0), (5, 0), (5, 1), (6, 1), (6, 2), (6, 3), (6, 4)]\n",
      "path 8 : [(0, 0), (1, 0), (2, 0), (3, 0), (4, 0), (5, 0), (5, 1), (5, 2), (6, 2), (6, 3), (6, 4)]\n",
      "path 9 : [(0, 0), (1, 0), (2, 0), (3, 0), (4, 0), (5, 0), (5, 1), (5, 2), (5, 3), (5, 4), (6, 4)]\n",
      "path 10 : [(0, 0), (1, 0), (2, 0), (3, 0), (4, 0), (5, 0), (5, 1), (5, 2), (5, 3), (6, 3), (6, 4)]\n",
      "Total number of paths: 10\n"
     ]
    }
   ],
   "source": [
    "solver_module_a = module_a(s)\n",
    "count_module_a = print_all_paths(solver_module_a,c=0)\n",
    "print(f\"Total number of paths: {count_module_a}\")"
   ]
  },
  {
   "cell_type": "markdown",
   "id": "613d6d7e",
   "metadata": {},
   "source": [
    "#### Show that no valid path includes coordinate $C$.\n",
    "\n",
    "We just need to add the constraint that the robot must be pass coordinate $C(2,1)$, so we can write the boolean expression as follows:\n",
    "$$\\left\\{(x_i = 2) \\land (y_i = 1)\\,|\\,\\forall i\\in\\{1,2,\\dots,10\\}\\right\\}$$\n",
    "\n",
    "But we can check if the model is unsatisfiable, which means that there is no valid path that includes coordinate $C$."
   ]
  },
  {
   "cell_type": "code",
   "execution_count": 9,
   "id": "24ec07cc",
   "metadata": {},
   "outputs": [
    {
     "name": "stdout",
     "output_type": "stream",
     "text": [
      "No valid path includes coordinate C(2, 1).\n"
     ]
    }
   ],
   "source": [
    "C = (2, 1)\n",
    "\n",
    "solver_module_a.add(Or([And(X[i] == C[0], Y[i] == C[1]) for i in range(max_steps + 1)]))\n",
    "\n",
    "if solver_module_a.check() == unsat:\n",
    "  print(f\"No valid path includes coordinate C{C}.\")\n",
    "else:\n",
    "  print(f\"There is a valid path that includes coordinate C{C}.\")"
   ]
  },
  {
   "cell_type": "markdown",
   "id": "90a95b59",
   "metadata": {},
   "source": [
    "### Module (b)\n",
    "Module (b) allows the robot to move in three directions: right, up, and diagonal upward. The **upward diagonal** movement can be represented as follows:\n",
    "$$\\begin{align*}\n",
    "x_{i+1} &= x_i + 1 \\\\\n",
    "y_{i+1} &= y_i + 1 \n",
    "\\end{align*}$$\n",
    "Thus the boolean variable $m_{i}$ for each step can be defined as follows:\n",
    "$$m_{i} = [(x_{i+1} = x_i + 1) \\land (y_{i+1} = y_i)] \\lor [(x_{i+1} = x_i) \\land (y_{i+1} = y_i + 1)] \\lor [(x_{i+1} = x_i + 1) \\land (y_{i+1} = y_i + 1)]$$"
   ]
  },
  {
   "cell_type": "code",
   "execution_count": 10,
   "id": "211da0ef",
   "metadata": {},
   "outputs": [],
   "source": [
    "def upward_diagonal_step(i):\n",
    "    return And(X[i+1] == X[i] + 1, Y[i+1] == Y[i] + 1)"
   ]
  },
  {
   "cell_type": "markdown",
   "id": "64843bbc",
   "metadata": {},
   "source": [
    "#### Total paths from $A$ to $B$ (i)\n",
    "\n",
    "There is we got some problem because the robot can move in three directions, so the robot have minimum and maximum steps to reach the destination. If we analyze the grid, we can see that the minimum steps is $4+2=6$ steps (4 steps in diagonal and 2 steps in horizontal) and obviously the maximum steps is $10$ steps.\n",
    "\n",
    "But in this case, we assume that don't know the minimum steps. So the program must be able to check from 1 until 10, but not all of them will be satisfiable. Therefore, if the iteration of minimum steps are satisfiable, we can check the model and print all the paths."
   ]
  },
  {
   "cell_type": "code",
   "execution_count": 11,
   "id": "8b08e3d6",
   "metadata": {},
   "outputs": [
    {
     "name": "stdout",
     "output_type": "stream",
     "text": [
      "Module B with 1 steps: No valid paths found.\n",
      "Module B with 2 steps: No valid paths found.\n",
      "Module B with 3 steps: No valid paths found.\n",
      "Module B with 4 steps: No valid paths found.\n",
      "Module B with 5 steps: No valid paths found.\n",
      "Module B with 6 steps:\n",
      "path 1 : [(0, 0), (1, 0), (2, 1), (3, 2), (4, 3), (5, 4), (6, 4), (0, 0), (0, 0), (0, 0), (6, 4)]\n",
      "path 2 : [(0, 0), (1, 1), (2, 1), (3, 2), (4, 3), (5, 4), (6, 4), (0, 0), (0, 0), (0, 0), (6, 4)]\n",
      "path 3 : [(0, 0), (1, 1), (2, 1), (3, 2), (4, 3), (5, 3), (6, 4), (0, 0), (0, 0), (0, 0), (6, 4)]\n",
      "path 4 : [(0, 0), (1, 0), (2, 1), (3, 2), (4, 3), (5, 3), (6, 4), (0, 0), (0, 0), (0, 0), (6, 4)]\n",
      "Module B with 7 steps:\n",
      "path 5 : [(0, 0), (1, 0), (1, 1), (2, 1), (3, 2), (4, 3), (5, 3), (6, 4), (0, 0), (0, 0), (6, 4)]\n",
      "path 6 : [(0, 0), (1, 0), (1, 1), (2, 1), (3, 2), (4, 3), (5, 4), (6, 4), (0, 0), (0, 0), (6, 4)]\n",
      "path 7 : [(0, 0), (1, 0), (2, 1), (3, 2), (4, 3), (5, 3), (6, 3), (6, 4), (0, 0), (0, 0), (6, 4)]\n",
      "path 8 : [(0, 0), (1, 0), (2, 1), (3, 2), (4, 3), (5, 3), (5, 4), (6, 4), (0, 0), (0, 0), (6, 4)]\n",
      "path 9 : [(0, 0), (1, 0), (2, 1), (3, 2), (4, 3), (4, 4), (5, 4), (6, 4), (0, 0), (0, 0), (6, 4)]\n",
      "path 10 : [(0, 0), (0, 1), (1, 1), (2, 1), (3, 2), (4, 3), (5, 3), (6, 4), (0, 0), (0, 0), (6, 4)]\n",
      "path 11 : [(0, 0), (0, 1), (1, 1), (2, 1), (3, 2), (4, 3), (5, 4), (6, 4), (0, 0), (0, 0), (6, 4)]\n",
      "path 12 : [(0, 0), (1, 1), (2, 1), (3, 2), (4, 3), (5, 3), (5, 4), (6, 4), (0, 0), (0, 0), (6, 4)]\n",
      "path 13 : [(0, 0), (1, 1), (2, 1), (3, 2), (4, 3), (5, 3), (6, 3), (6, 4), (0, 0), (0, 0), (6, 4)]\n",
      "path 14 : [(0, 0), (1, 1), (2, 1), (3, 2), (4, 3), (4, 4), (5, 4), (6, 4), (0, 0), (0, 0), (6, 4)]\n",
      "path 15 : [(0, 0), (1, 0), (2, 0), (2, 1), (3, 2), (4, 3), (5, 4), (6, 4), (0, 0), (0, 0), (6, 4)]\n",
      "path 16 : [(0, 0), (1, 0), (2, 0), (2, 1), (3, 2), (4, 3), (5, 3), (6, 4), (0, 0), (0, 0), (6, 4)]\n",
      "Module B with 8 steps:\n",
      "path 17 : [(0, 0), (1, 0), (2, 0), (3, 0), (4, 0), (5, 1), (5, 2), (5, 3), (6, 4), (0, 0), (6, 4)]\n",
      "path 18 : [(0, 0), (1, 0), (1, 1), (2, 1), (3, 2), (4, 3), (4, 4), (5, 4), (6, 4), (0, 0), (6, 4)]\n",
      "path 19 : [(0, 0), (1, 1), (1, 2), (1, 3), (2, 4), (3, 4), (4, 4), (5, 4), (6, 4), (0, 0), (6, 4)]\n",
      "path 20 : [(0, 0), (0, 1), (0, 2), (1, 3), (2, 4), (3, 4), (4, 4), (5, 4), (6, 4), (0, 0), (6, 4)]\n",
      "path 21 : [(0, 0), (1, 0), (1, 1), (2, 1), (3, 2), (4, 3), (5, 3), (5, 4), (6, 4), (0, 0), (6, 4)]\n",
      "path 22 : [(0, 0), (1, 0), (1, 1), (2, 1), (3, 2), (4, 3), (5, 3), (6, 3), (6, 4), (0, 0), (6, 4)]\n",
      "path 23 : [(0, 0), (0, 1), (1, 2), (1, 3), (2, 4), (3, 4), (4, 4), (5, 4), (6, 4), (0, 0), (6, 4)]\n",
      "path 24 : [(0, 0), (1, 0), (2, 0), (2, 1), (3, 2), (4, 3), (5, 3), (6, 3), (6, 4), (0, 0), (6, 4)]\n",
      "path 25 : [(0, 0), (1, 0), (2, 0), (2, 1), (3, 2), (4, 3), (5, 3), (5, 4), (6, 4), (0, 0), (6, 4)]\n",
      "path 26 : [(0, 0), (1, 0), (2, 0), (2, 1), (3, 2), (4, 3), (4, 4), (5, 4), (6, 4), (0, 0), (6, 4)]\n",
      "path 27 : [(0, 0), (0, 1), (1, 1), (2, 1), (3, 2), (4, 3), (5, 3), (5, 4), (6, 4), (0, 0), (6, 4)]\n",
      "path 28 : [(0, 0), (0, 1), (1, 1), (2, 1), (3, 2), (4, 3), (5, 3), (6, 3), (6, 4), (0, 0), (6, 4)]\n",
      "path 29 : [(0, 0), (0, 1), (1, 1), (2, 1), (3, 2), (4, 3), (4, 4), (5, 4), (6, 4), (0, 0), (6, 4)]\n",
      "path 30 : [(0, 0), (1, 0), (2, 0), (3, 0), (4, 0), (5, 1), (6, 2), (6, 3), (6, 4), (0, 0), (6, 4)]\n",
      "path 31 : [(0, 0), (1, 0), (2, 0), (3, 0), (4, 0), (5, 1), (5, 2), (6, 3), (6, 4), (0, 0), (6, 4)]\n",
      "Module B with 9 steps:\n",
      "path 32 : [(0, 0), (1, 0), (2, 0), (3, 0), (4, 0), (5, 0), (5, 1), (5, 2), (6, 3), (6, 4), (6, 4)]\n",
      "path 33 : [(0, 0), (0, 1), (0, 2), (1, 3), (1, 4), (2, 4), (3, 4), (4, 4), (5, 4), (6, 4), (6, 4)]\n",
      "path 34 : [(0, 0), (1, 1), (1, 2), (1, 3), (1, 4), (2, 4), (3, 4), (4, 4), (5, 4), (6, 4), (6, 4)]\n",
      "path 35 : [(0, 0), (0, 1), (1, 2), (1, 3), (1, 4), (2, 4), (3, 4), (4, 4), (5, 4), (6, 4), (6, 4)]\n",
      "path 36 : [(0, 0), (1, 0), (1, 1), (1, 2), (1, 3), (2, 4), (3, 4), (4, 4), (5, 4), (6, 4), (6, 4)]\n",
      "path 37 : [(0, 0), (0, 1), (1, 1), (1, 2), (1, 3), (2, 4), (3, 4), (4, 4), (5, 4), (6, 4), (6, 4)]\n",
      "path 38 : [(0, 0), (0, 1), (0, 2), (0, 3), (1, 3), (2, 4), (3, 4), (4, 4), (5, 4), (6, 4), (6, 4)]\n",
      "path 39 : [(0, 0), (0, 1), (0, 2), (0, 3), (1, 4), (2, 4), (3, 4), (4, 4), (5, 4), (6, 4), (6, 4)]\n",
      "path 40 : [(0, 0), (0, 1), (0, 2), (1, 2), (1, 3), (2, 4), (3, 4), (4, 4), (5, 4), (6, 4), (6, 4)]\n",
      "path 41 : [(0, 0), (1, 0), (2, 0), (3, 0), (4, 0), (5, 0), (5, 1), (5, 2), (5, 3), (6, 4), (6, 4)]\n",
      "path 42 : [(0, 0), (1, 0), (2, 0), (3, 0), (4, 0), (5, 0), (5, 1), (6, 2), (6, 3), (6, 4), (6, 4)]\n",
      "path 43 : [(0, 0), (1, 0), (2, 0), (3, 0), (4, 0), (5, 1), (6, 1), (6, 2), (6, 3), (6, 4), (6, 4)]\n",
      "path 44 : [(0, 0), (1, 0), (2, 0), (3, 0), (4, 0), (5, 0), (6, 1), (6, 2), (6, 3), (6, 4), (6, 4)]\n",
      "path 45 : [(0, 0), (1, 0), (2, 0), (3, 0), (4, 0), (5, 1), (5, 2), (5, 3), (6, 3), (6, 4), (6, 4)]\n",
      "path 46 : [(0, 0), (1, 0), (2, 0), (3, 0), (4, 0), (5, 1), (5, 2), (6, 2), (6, 3), (6, 4), (6, 4)]\n",
      "path 47 : [(0, 0), (1, 0), (2, 0), (3, 0), (4, 0), (5, 1), (5, 2), (5, 3), (5, 4), (6, 4), (6, 4)]\n",
      "Module B with 10 steps:\n",
      "path 48 : [(0, 0), (0, 1), (0, 2), (0, 3), (0, 4), (1, 4), (2, 4), (3, 4), (4, 4), (5, 4), (6, 4)]\n",
      "path 49 : [(0, 0), (1, 0), (2, 0), (3, 0), (4, 0), (5, 0), (6, 0), (6, 1), (6, 2), (6, 3), (6, 4)]\n",
      "path 50 : [(0, 0), (1, 0), (2, 0), (3, 0), (4, 0), (5, 0), (5, 1), (6, 1), (6, 2), (6, 3), (6, 4)]\n",
      "path 51 : [(0, 0), (1, 0), (2, 0), (3, 0), (4, 0), (5, 0), (5, 1), (5, 2), (5, 3), (5, 4), (6, 4)]\n",
      "path 52 : [(0, 0), (1, 0), (2, 0), (3, 0), (4, 0), (5, 0), (5, 1), (5, 2), (5, 3), (6, 3), (6, 4)]\n",
      "path 53 : [(0, 0), (1, 0), (2, 0), (3, 0), (4, 0), (5, 0), (5, 1), (5, 2), (6, 2), (6, 3), (6, 4)]\n",
      "path 54 : [(0, 0), (0, 1), (0, 2), (1, 2), (1, 3), (1, 4), (2, 4), (3, 4), (4, 4), (5, 4), (6, 4)]\n",
      "path 55 : [(0, 0), (1, 0), (1, 1), (1, 2), (1, 3), (1, 4), (2, 4), (3, 4), (4, 4), (5, 4), (6, 4)]\n",
      "path 56 : [(0, 0), (0, 1), (0, 2), (0, 3), (1, 3), (1, 4), (2, 4), (3, 4), (4, 4), (5, 4), (6, 4)]\n",
      "path 57 : [(0, 0), (0, 1), (1, 1), (1, 2), (1, 3), (1, 4), (2, 4), (3, 4), (4, 4), (5, 4), (6, 4)]\n",
      "Total number of paths: 57\n"
     ]
    }
   ],
   "source": [
    "min_steps = 1\n",
    "\n",
    "def module_b(solver):\n",
    "    counter = 0\n",
    "    for i in range(min_steps, max_steps+1):\n",
    "        new_solver = Solver()\n",
    "        new_solver.add(solver.assertions())\n",
    "        new_solver.add(X[i]== 6, Y[i] == 4)  \n",
    "        new_solver.add([And(X[k] == 0, Y[k] == 0) for k in range(i+1, max_steps)])\n",
    "        for j in range(i):\n",
    "            new_solver.add(Or(\n",
    "                right_step(j),\n",
    "                up_step(j),\n",
    "                upward_diagonal_step(j)\n",
    "            ))\n",
    "        if new_solver.check() == sat:\n",
    "            print(f\"Module B with {i} steps:\")\n",
    "            counter = print_all_paths(new_solver,counter)\n",
    "        else:\n",
    "            print(f\"Module B with {i} steps: No valid paths found.\")\n",
    "    print(f\"Total number of paths: {counter}\")\n",
    "\n",
    "module_b(s)"
   ]
  },
  {
   "cell_type": "markdown",
   "id": "9ffd155b",
   "metadata": {},
   "source": [
    "#### Number of minimal-length paths (ii)\n",
    "In the previous section its was seen that the minimum steps is $6$ steps, because for number less than $6$ have no valid path (unsatisfiable)."
   ]
  },
  {
   "cell_type": "markdown",
   "id": "413aef07",
   "metadata": {},
   "source": [
    "\n",
    "#### Minimal paths must pass $C$, $D$, and $E$ (iii)\n",
    "We known that minimal paths is $6$ steps, so if we add the negation of the boolean expression for $C(2,1)$, $D(3,2)$, and $E(4,3)$ as follows:\n",
    "\n",
    "$$\n",
    "\\begin{align*}\n",
    "\\neg\\left[\n",
    "  ((x_i = 2) \\land (y_i = 1)) \\lor\n",
    "  ((x_i = 3) \\land (y_i = 2)) \\lor\n",
    "  ((x_i = 4) \\land (y_i = 3))\n",
    "\\right],\\quad i\\in\\{1,2,\\dots,5\\}\n",
    "\\end{align*}\n",
    "$$"
   ]
  },
  {
   "cell_type": "code",
   "execution_count": 12,
   "id": "5d009814",
   "metadata": {},
   "outputs": [
    {
     "name": "stdout",
     "output_type": "stream",
     "text": [
      "Not exist paths of 6 steps without pass through C(2,1), D(3,2), or E(4,3).\n"
     ]
    }
   ],
   "source": [
    "def module_b_ii(solver):\n",
    "    new_solver = Solver()\n",
    "    new_solver.add(solver.assertions())\n",
    "    new_solver.add([Not(Or(And(X[i] == 2,Y[i] == 1),And(X[i] == 3,Y[i] == 2),And(X[i] == 4,Y[i] == 3))) for i in range(1,max_steps)])\n",
    "    new_solver.add(X[6]== 6, Y[6] == 4)  \n",
    "    new_solver.add([And(X[k] == 0, Y[k] == 0) for k in range(7, max_steps)])\n",
    "    for j in range(6):\n",
    "        new_solver.add(Or(\n",
    "            right_step(j),\n",
    "            up_step(j),\n",
    "            upward_diagonal_step(j)\n",
    "        ))\n",
    "    if new_solver.check() == sat:\n",
    "        print(\"There exists a minimal path of 6 steps that does NOT pass through C(2,1), D(3,2), or E(4,3):\")\n",
    "        print_all_paths(new_solver, 0)\n",
    "    else:\n",
    "        print(\"Not exist paths of 6 steps without pass through C(2,1), D(3,2), or E(4,3).\")\n",
    "\n",
    "module_b_ii(s)"
   ]
  }
 ],
 "metadata": {
  "kernelspec": {
   "display_name": "Python 3",
   "language": "python",
   "name": "python3"
  },
  "language_info": {
   "codemirror_mode": {
    "name": "ipython",
    "version": 3
   },
   "file_extension": ".py",
   "mimetype": "text/x-python",
   "name": "python",
   "nbconvert_exporter": "python",
   "pygments_lexer": "ipython3",
   "version": "3.11.5"
  }
 },
 "nbformat": 4,
 "nbformat_minor": 5
}
