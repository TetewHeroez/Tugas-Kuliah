{
 "cells": [
  {
   "cell_type": "markdown",
   "id": "5e8676a2",
   "metadata": {},
   "source": [
    "# Robot Grid Navigation Problem\n",
    "\n",
    "Suppose there is a robot at coordinate $A(0, 0)$ that needs to move to coordinate $B(6, 4)$.  \n",
    "The robot is programmed to **avoid red-colored coordinates** (obstacles).\n",
    "\n",
    "<img src=\"grid.png\" alt=\"Grid with obstacles\" width=\"50%\">\n",
    "\n",
    "*Figure: $6 \\times 4$ grid with obstacle nodes (red)*\n",
    "\n",
    "---\n",
    "\n",
    "The robot is equipped with two modules for movement:\n",
    "\n",
    "### Module (a):\n",
    "- The robot may move **one step vertically or horizontally** per move.\n",
    "- Examples:\n",
    "  - $(0, 0) → (1, 0)$\n",
    "  - $(0, 0) → (0, 1)$\n",
    "\n",
    "### Module (b):\n",
    "- The robot may move **one step vertically, horizontally, or diagonally upward**.\n",
    "- Examples:\n",
    "  - $(0, 0) → (1, 0)$\n",
    "  - $(0, 0) → (0, 1)$\n",
    "  - $(0, 0) → (1, 1)$\n",
    "\n",
    "---\n",
    "---\n",
    "\n",
    "## Problem Statements\n",
    "\n",
    "### 1. Create a SMT encoding to define the movements for module (a)\n",
    " - (i) Number of all possible paths from **$A$ to $B$** (without red nodes).\n",
    " - (ii) Show that no valid path includes coordinate **$C$**.\n",
    "\n",
    "---\n",
    "\n",
    "### 2. Create a SMT encoding to define the movements for module (b)\n",
    " - (i) Total paths from **$A$ to $B$**.\n",
    " - (ii) Number of minimal-length paths.\n",
    " - (iii) Prove all minimal paths must pass **$C$, $D$, and $E$**.\n",
    "\n",
    "---\n",
    "\n",
    "## Notes and Hints\n",
    "\n",
    "- 🧠 Your answer **must be based solely on SMT**; you are **not allowed** to “directly” apply your mathematical knowledge to find the answer.\n",
    "- 🐍 You are free to create or use an existing **function or library in Python**.\n",
    "- 🔢 Define integer variables $x_1, y_1, x_2, y_2, \\ldots, x_m, y_m $ to represent the robot’s coordinates.\n",
    "- ➕ Define the relation or constraint between $x_i$ and $x_{i+1}$, and between $y_i$ and  $y_{i+1}$ according to the movement rule for each module\n",
    "- 🚩 Define explicit **constraints** for initial and final coordinates\n"
   ]
  },
  {
   "cell_type": "markdown",
   "id": "956f71e7",
   "metadata": {},
   "source": [
    "## Solution \n",
    "Import the necessary libraries and set up the SMT solver. Then, define the variables according to the problem requirements."
   ]
  },
  {
   "cell_type": "code",
   "execution_count": 4,
   "id": "3cab0d9e",
   "metadata": {},
   "outputs": [
    {
     "name": "stdout",
     "output_type": "stream",
     "text": [
      "X axis: [x_1, x_2, x_3, x_4, x_5, x_6]\n",
      "Y axis: [y_1, y_2, y_3, y_4]\n"
     ]
    }
   ],
   "source": [
    "from z3 import *\n",
    "\n",
    "X_axis = [Int(f'x_{i+1}') for i in range(6)]\n",
    "Y_axis = [Int(f'y_{j+1}') for j in range(4)]\n",
    "\n",
    "print(\"X axis:\", X_axis)\n",
    "print(\"Y axis:\", Y_axis)\n",
    "\n",
    "s = Solver()"
   ]
  },
  {
   "cell_type": "markdown",
   "id": "8455f0ec",
   "metadata": {},
   "source": [
    "Since coordinates are non-negative integers, we must ensure that the robot does not move outside the grid. So add the constraints\n",
    "\n",
    "$$0 \\leq x_i \\leq 6, \\quad 0 \\leq y_j \\leq 4$$"
   ]
  },
  {
   "cell_type": "code",
   "execution_count": 8,
   "id": "671b4f2b",
   "metadata": {},
   "outputs": [],
   "source": [
    "s.add([X_axis[i] >= 0 for i in range(6)])\n",
    "s.add([X_axis[i] <= 6 for i in range(6)])\n",
    "s.add([Y_axis[j] >= 0 for j in range(4)])\n",
    "s.add([Y_axis[j] <= 4 for j in range(4)])"
   ]
  },
  {
   "cell_type": "markdown",
   "id": "f82376b2",
   "metadata": {},
   "source": [
    "Define relations and constraints for the robot's movements based on the modules described. So we can represented by\n",
    "$$\\begin{align*}\n",
    "\\text{Right step:}&&\\text{Up step:}&\\\\\n",
    "x_{i+1} &= x_i + 1 &\\qquad\\qquad\\qquad\\qquad x_{i+1} &= x_i + 1\\\\\n",
    "y_{j+1} &= y_j  & y_{j+1} &= y_j + 1\n",
    "\\end{align*}$$\n",
    "\n",
    "or in boolean notation we can write\n",
    "$$\\begin{align*}\n",
    "\\text{Right step: }& (x_{i+1} = x_i + 1) \\land (y_{j+1} = y_j)\\\\\n",
    "\\text{Up step: }& (x_{i+1} = x_i) \\land (y_{j+1} = y_j + 1)\n",
    "\\end{align*}$$\n",
    "\n",
    "for $i = 1, 2, \\ldots, 6$ and $j = 1, 2, \\ldots, 4$.\n",
    "\n"
   ]
  },
  {
   "cell_type": "code",
   "execution_count": null,
   "id": "11b5eaca",
   "metadata": {},
   "outputs": [],
   "source": []
  }
 ],
 "metadata": {
  "kernelspec": {
   "display_name": "Python 3",
   "language": "python",
   "name": "python3"
  },
  "language_info": {
   "codemirror_mode": {
    "name": "ipython",
    "version": 3
   },
   "file_extension": ".py",
   "mimetype": "text/x-python",
   "name": "python",
   "nbconvert_exporter": "python",
   "pygments_lexer": "ipython3",
   "version": "3.11.5"
  }
 },
 "nbformat": 4,
 "nbformat_minor": 5
}
