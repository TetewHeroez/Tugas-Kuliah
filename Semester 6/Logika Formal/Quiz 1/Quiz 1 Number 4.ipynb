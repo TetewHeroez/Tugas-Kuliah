{
 "cells": [
  {
   "cell_type": "markdown",
   "id": "1214d57e",
   "metadata": {},
   "source": [
    "# Problem\n",
    "Construct the Boolean formula to model the following problem:\n",
    "\n",
    "> Given a 3 × 3 chessboard, place three Rook pieces such that there are no two pieces that can attack each other. A Rook piece can move either vertically or horizontally.\n",
    "\n",
    "Determine whether the formula is satisfiable or not. Explain your answer.\n",
    "\n",
    "\n",
    "<div align=\"center\">\n",
    "\n",
    "| $a_{11}$ | $a_{12}$ | $a_{13}$ |\n",
    "|----------|----------|----------|\n",
    "| $a_{21}$ | $a_{22}$ | $a_{23}$ |\n",
    "| $a_{31}$ | $a_{32}$ | $a_{33}$ |\n",
    "\n",
    "</div>\n",
    "\n",
    "**Instructions:**\n",
    "\n",
    "* Define nine Boolean variables $a_{ij}$ where $i, j ∈ {1,2,3}$. The variable $a_{ij}$ is active (without negation) if a Rook piece is placed in the $i$‑row and $j$‑th column; otherwise it is passive (with negation).\n",
    "* You may need to define the formula as\n",
    "\n",
    "  $$\n",
    "  F = F₁₁ ∧ F₁₂ ∧ F₁₃ ∧ F₂₁ ∧ F₂₂ ∧ F₂₃ ∧ F₃₁ ∧ F₃₂ ∧ F₃₃ ∧ R₁ ∧ R₂ ∧ R₃ ∧ C₁ ∧ C₂ ∧ C₃\n",
    "  $$\n",
    "\n",
    "  where $Fᵢⱼ$ is a subformula when assuming a Rook piece is placed in the $i$‑row and $j$‑th column, $Rᵢ$ (respectively $Cⱼ$) is a subformula representing the condition that at least one Rook piece is placed in the $i$‑row (respectively $j$‑column).\n",
    "* You may also need to use implication formula to define $Fᵢⱼ$: if a Rook piece is placed in this cell then one cannot place Rook in “these” cells.\n"
   ]
  },
  {
   "cell_type": "markdown",
   "id": "99ee1900",
   "metadata": {},
   "source": [
    "# Solution\n",
    "\n",
    "First we define nine Boolean variables $a_{ij}$ where $i, j ∈ {1,2,3}$"
   ]
  },
  {
   "cell_type": "code",
   "execution_count": 86,
   "id": "544bdbb7",
   "metadata": {},
   "outputs": [
    {
     "name": "stdout",
     "output_type": "stream",
     "text": [
      "[[a_11, a_12, a_13], [a_21, a_22, a_23], [a_31, a_32, a_33]]\n"
     ]
    }
   ],
   "source": [
    "# import z3\n",
    "from z3 import *\n",
    "\n",
    "#define the variables\n",
    "a = [[Bool(f'a_{i}{j}') for j in range(1, 4)] for i in range(1, 4)]\n",
    "print(a)"
   ]
  },
  {
   "cell_type": "markdown",
   "id": "c972d4ba",
   "metadata": {},
   "source": [
    " Next we define the condition $R_i$ and $C_i$ where $i\\in{1,2,3}$ there at least one rook placed at each $i$-row and $i$-column. The formula can represented by\n",
    "\\begin{align*}\n",
    "  R_i &:= a_{i1} \\vee a_{i2} \\vee a_{i3}\\\\\n",
    "  C_i &:= a_{1i} \\vee a_{2i} \\vee a_{3i}\n",
    "\\end{align*}"
   ]
  },
  {
   "cell_type": "code",
   "execution_count": 87,
   "id": "5d9e21e1",
   "metadata": {},
   "outputs": [
    {
     "name": "stdout",
     "output_type": "stream",
     "text": [
      "Row: [Or(a_11, a_12, a_13), Or(a_21, a_22, a_23), Or(a_31, a_32, a_33)]\n",
      "Column: [Or(a_11, a_21, a_31), Or(a_12, a_22, a_32), Or(a_13, a_23, a_33)]\n"
     ]
    }
   ],
   "source": [
    "R = [Or(a[i][0], a[i][1], a[i][2]) for i in range(3)]\n",
    "C = [Or(a[0][i], a[1][i], a[2][i]) for i in range(3)]\n",
    "\n",
    "print(f'Row: {R}')\n",
    "print(f'Column: {C}')"
   ]
  },
  {
   "cell_type": "markdown",
   "id": "95787beb",
   "metadata": {},
   "source": [
    "Then the $F_{ij}$ formula can represented by\n",
    "$$F_{ij}:=a_{ij}\\implies\\left(\\bigwedge_{\\substack{k=1\\\\k\\neq i}}^{3}\\neg a_{kj}\n",
    "\\land\n",
    "\\bigwedge_{\\substack{\\ell=1\\\\\\ell\\neq j}}^{3}\\neg a_{i\\ell}\\right)\n",
    "$$"
   ]
  },
  {
   "cell_type": "code",
   "execution_count": 88,
   "id": "2ea18f47",
   "metadata": {},
   "outputs": [
    {
     "name": "stdout",
     "output_type": "stream",
     "text": [
      "F: [[Implies(a_11,\n",
      "        And(Not(a_21), Not(a_31), Not(a_12), Not(a_13))), Implies(a_12,\n",
      "        And(Not(a_22), Not(a_32), Not(a_11), Not(a_13))), Implies(a_13,\n",
      "        And(Not(a_23), Not(a_33), Not(a_11), Not(a_12)))], [Implies(a_21,\n",
      "        And(Not(a_11), Not(a_31), Not(a_22), Not(a_23))), Implies(a_22,\n",
      "        And(Not(a_12), Not(a_32), Not(a_21), Not(a_23))), Implies(a_23,\n",
      "        And(Not(a_13), Not(a_33), Not(a_21), Not(a_22)))], [Implies(a_31,\n",
      "        And(Not(a_11), Not(a_21), Not(a_32), Not(a_33))), Implies(a_32,\n",
      "        And(Not(a_12), Not(a_22), Not(a_31), Not(a_33))), Implies(a_33,\n",
      "        And(Not(a_13), Not(a_23), Not(a_31), Not(a_32)))]]\n"
     ]
    }
   ],
   "source": [
    "F=[]\n",
    "for i in range(3):\n",
    "    row = []\n",
    "    for j in range(3):\n",
    "        not_same_col = [Not(a[k][j]) for k in range(3) if k != i]\n",
    "        not_same_row = [Not(a[i][l]) for l in range(3) if l != j]\n",
    "        constraint = Implies(a[i][j], And(*(not_same_col + not_same_row)))\n",
    "        row.append(constraint)\n",
    "    F.append(row)\n",
    "        \n",
    "print(f'F: {F}')"
   ]
  },
  {
   "cell_type": "markdown",
   "id": "17d06bb9",
   "metadata": {},
   "source": [
    "The last step is combine that all formula with conjunction, such that\n",
    "$$ F = F_{11} \\land F_{12} \\land F_{13} \\land F_{21} \\land F_{22} \\land F_{23} \\land F_{31} \\land F_{32} \\land F_{33} \\land R_1 \\land R_2 \\land R_3 \\land C_1 \\land C_2 \\land C_3$$\n",
    "\n",
    "and solve it!"
   ]
  },
  {
   "cell_type": "code",
   "execution_count": 89,
   "id": "ed6280be",
   "metadata": {},
   "outputs": [
    {
     "data": {
      "text/html": [
       "<b>sat</b>"
      ],
      "text/plain": [
       "sat"
      ]
     },
     "execution_count": 89,
     "metadata": {},
     "output_type": "execute_result"
    }
   ],
   "source": [
    "formula = And(*R,*C,*[F[i][j] for i in range(3) for j in range(3)])\n",
    "\n",
    "s = Solver()\n",
    "s.add(formula)\n",
    "\n",
    "s.check()"
   ]
  },
  {
   "cell_type": "markdown",
   "id": "c1889634",
   "metadata": {},
   "source": [
    "And yes... the model is satisfiable. The model can we check by:"
   ]
  },
  {
   "cell_type": "code",
   "execution_count": 90,
   "id": "c6b48ef9",
   "metadata": {},
   "outputs": [
    {
     "data": {
      "text/html": [
       "[a_11 = False,\n",
       " a_22 = False,\n",
       " a_21 = True,\n",
       " a_23 = False,\n",
       " a_32 = False,\n",
       " a_12 = True,\n",
       " a_13 = False,\n",
       " a_33 = True,\n",
       " a_31 = False]"
      ],
      "text/plain": [
       "[a_11 = False,\n",
       " a_22 = False,\n",
       " a_21 = True,\n",
       " a_23 = False,\n",
       " a_32 = False,\n",
       " a_12 = True,\n",
       " a_13 = False,\n",
       " a_33 = True,\n",
       " a_31 = False]"
      ]
     },
     "execution_count": 90,
     "metadata": {},
     "output_type": "execute_result"
    }
   ],
   "source": [
    "s.model()"
   ]
  },
  {
   "cell_type": "markdown",
   "id": "d46e73ec",
   "metadata": {},
   "source": [
    "The Ilustration of example model can be draw like this\n",
    "<div align=\"center\">\n",
    "\n",
    "|  | 🏛️ |  |\n",
    "|----------|----------|----------|\n",
    "| 🏛️ |  |  |\n",
    "|  |  | 🏛️ |\n",
    "\n",
    "</div>"
   ]
  },
  {
   "cell_type": "markdown",
   "id": "db31093e",
   "metadata": {},
   "source": [
    "Now if we want to check all models such that the formula is satisfiable, consider the fact of combination of the case we want can be calculate by permutation of multiset\n",
    "$$\\text{Total Models }= \\frac{(3!)^2}{3!}=3!=6$$"
   ]
  },
  {
   "cell_type": "code",
   "execution_count": 91,
   "id": "777cf5c9",
   "metadata": {},
   "outputs": [
    {
     "name": "stdout",
     "output_type": "stream",
     "text": [
      "Model 1:\n",
      "{a_11: False, a_12: True, a_13: False, a_21: True, a_22: False, a_23: False, a_31: False, a_32: False, a_33: True}\n",
      "Model 2:\n",
      "{a_11: False, a_12: False, a_13: True, a_21: False, a_22: True, a_23: False, a_31: True, a_32: False, a_33: False}\n",
      "Model 3:\n",
      "{a_11: True, a_12: False, a_13: False, a_21: False, a_22: False, a_23: True, a_31: False, a_32: True, a_33: False}\n",
      "Model 4:\n",
      "{a_11: True, a_12: False, a_13: False, a_21: False, a_22: True, a_23: False, a_31: False, a_32: False, a_33: True}\n",
      "Model 5:\n",
      "{a_11: False, a_12: True, a_13: False, a_21: False, a_22: False, a_23: True, a_31: True, a_32: False, a_33: False}\n",
      "Model 6:\n",
      "{a_11: False, a_12: False, a_13: True, a_21: True, a_22: False, a_23: False, a_31: False, a_32: True, a_33: False}\n",
      "\n",
      "Total solutions found: 6\n"
     ]
    }
   ],
   "source": [
    "# List to store all models\n",
    "models = []\n",
    "count = 1\n",
    "\n",
    "while s.check() == sat:\n",
    "    m = s.model()\n",
    "    models.append(m)\n",
    "    # Print the model\n",
    "    print(f\"Model {count}:\")\n",
    "    print({v: m[v] for v in a[0] + a[1] + a[2]})\n",
    "    count += 1\n",
    "\n",
    "    # Add blocking clause to exclude current model\n",
    "    block = [v == (not is_true(m[v])) for v in a[0] + a[1] + a[2]]\n",
    "    s.add(Or(block))\n",
    "\n",
    "print(f\"\\nTotal solutions found: {len(models)}\")"
   ]
  },
  {
   "cell_type": "markdown",
   "id": "451d3bda",
   "metadata": {},
   "source": [
    "The Illustration of all solutions\n",
    "<div style=\"display: flex; justify-content: center;\">\n",
    "  <div>\n",
    "    <table border=\"1\">\n",
    "      <tr><td> </td><td>🏛️</td><td> </td></tr>\n",
    "      <tr><td>🏛️</td><td> </td><td> </td></tr>\n",
    "      <tr><td> </td><td> </td><td>🏛️</td></tr>\n",
    "    </table>\n",
    "  </div>\n",
    "\n",
    "  <div>\n",
    "    <table border=\"1\">\n",
    "      <tr><td> </td><td> </td><td>🏛️</td></tr>\n",
    "      <tr><td> </td><td>🏛️</td><td> </td></tr>\n",
    "      <tr><td>🏛️</td><td> </td><td> </td></tr>\n",
    "    </table>\n",
    "  </div>\n",
    "\n",
    "  <div>\n",
    "    <table border=\"1\">\n",
    "      <tr><td>🏛️</td><td> </td><td></td></tr>\n",
    "      <tr><td> </td><td> </td><td>🏛️</td></tr>\n",
    "      <tr><td> </td><td>🏛️</td><td> </td></tr>\n",
    "    </table>\n",
    "  </div>\n",
    "</div>\n",
    "\n",
    "$$\n",
    "\\,\n",
    "$$\n",
    "\n",
    "<div style=\"display: flex; justify-content: center;\">\n",
    "  <div>\n",
    "    <table border=\"1\">\n",
    "      <tr><td>🏛️</td><td> </td><td> </td></tr>\n",
    "      <tr><td> </td><td>🏛️</td><td> </td></tr>\n",
    "      <tr><td> </td><td> </td><td>🏛️</td></tr>\n",
    "    </table>\n",
    "  </div>\n",
    "\n",
    "  <div>\n",
    "    <table border=\"1\">\n",
    "      <tr><td> </td><td>🏛️</td><td></td></tr>\n",
    "      <tr><td> </td><td></td><td>🏛️</td></tr>\n",
    "      <tr><td>🏛️</td><td> </td><td> </td></tr>\n",
    "    </table>\n",
    "  </div>\n",
    "\n",
    "  <div>\n",
    "    <table border=\"1\">\n",
    "      <tr><td></td><td> </td><td>🏛️</td></tr>\n",
    "      <tr><td>🏛️</td><td> </td><td></td></tr>\n",
    "      <tr><td> </td><td>🏛️</td><td> </td></tr>\n",
    "    </table>\n",
    "  </div>\n",
    "</div>"
   ]
  }
 ],
 "metadata": {
  "kernelspec": {
   "display_name": "Python 3",
   "language": "python",
   "name": "python3"
  },
  "language_info": {
   "codemirror_mode": {
    "name": "ipython",
    "version": 3
   },
   "file_extension": ".py",
   "mimetype": "text/x-python",
   "name": "python",
   "nbconvert_exporter": "python",
   "pygments_lexer": "ipython3",
   "version": "3.11.5"
  }
 },
 "nbformat": 4,
 "nbformat_minor": 5
}
